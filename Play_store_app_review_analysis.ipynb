{
  "nbformat": 4,
  "nbformat_minor": 0,
  "metadata": {
    "colab": {
      "private_outputs": true,
      "provenance": [],
      "collapsed_sections": [
        "gIfDvo9L0UH2"
      ],
      "include_colab_link": true
    },
    "kernelspec": {
      "name": "python3",
      "display_name": "Python 3"
    },
    "language_info": {
      "name": "python"
    }
  },
  "cells": [
    {
      "cell_type": "markdown",
      "metadata": {
        "id": "view-in-github",
        "colab_type": "text"
      },
      "source": [
        "<a href=\"https://colab.research.google.com/github/TrishAcharya/Projects/blob/main/Play_store_app_review_analysis.ipynb\" target=\"_parent\"><img src=\"https://colab.research.google.com/assets/colab-badge.svg\" alt=\"Open In Colab\"/></a>"
      ]
    },
    {
      "cell_type": "markdown",
      "source": [
        "# **Project Name**    -   Play store app review analysis\n",
        "\n"
      ],
      "metadata": {
        "id": "vncDsAP0Gaoa"
      }
    },
    {
      "cell_type": "markdown",
      "source": [
        "##### **Project Type**    - Exploratory Data Analysis\n",
        "##### **Contribution**    - Individual"
      ],
      "metadata": {
        "id": "beRrZCGUAJYm"
      }
    },
    {
      "cell_type": "markdown",
      "source": [
        "# **Project Summary -**"
      ],
      "metadata": {
        "id": "FJNUwmbgGyua"
      }
    },
    {
      "cell_type": "markdown",
      "source": [
        "Play store app review analysis\n",
        "\n",
        "The goal of this Exploratory Data Analysis (EDA) project is to uncover key insights from the Play Store app data and customer reviews that can drive success in app development. By understanding factors such as app ratings, size, category, pricing, and user sentiment, we aim to provide actionable insights for app developers to improve user engagement, boost ratings, and optimize their app offerings for the Android market.\n"
      ],
      "metadata": {
        "id": "F6v_1wHtG2nS"
      }
    },
    {
      "cell_type": "markdown",
      "source": [
        "# **GitHub Link -**"
      ],
      "metadata": {
        "id": "w6K7xa23Elo4"
      }
    },
    {
      "cell_type": "markdown",
      "source": [
        "https://github.com/TrishAcharya/Projects/blob/main/Play_store_app_review_analysis.ipynb"
      ],
      "metadata": {
        "id": "h1o69JH3Eqqn"
      }
    },
    {
      "cell_type": "markdown",
      "source": [
        "# **Problem Statement**\n"
      ],
      "metadata": {
        "id": "yQaldy8SH6Dl"
      }
    },
    {
      "cell_type": "markdown",
      "source": [
        "To Explore and analyse the data to discover key factors responsible for app engagement and success.\n"
      ],
      "metadata": {
        "id": "DpeJGUA3kjGy"
      }
    },
    {
      "cell_type": "markdown",
      "source": [
        "#### **Define Your Business Objective?**"
      ],
      "metadata": {
        "id": "PH-0ReGfmX4f"
      }
    },
    {
      "cell_type": "markdown",
      "source": [
        "Business Objective is to gain actionable insights that can drive key decisions in areas like product development, marketing, customer satisfaction, and overall business strategy.\n",
        "1. Understand Market Trends and Demand\n",
        "2. Improve App Features and Functionality\n",
        "3. Enhance User Engagement and Retention\n",
        "4. Improve Customer Support and Service\n",
        "5. Predict Future Success or Failure\n"
      ],
      "metadata": {
        "id": "PhDvGCAqmjP1"
      }
    },
    {
      "cell_type": "markdown",
      "source": [
        "# **General Guidelines** : -  "
      ],
      "metadata": {
        "id": "mDgbUHAGgjLW"
      }
    },
    {
      "cell_type": "markdown",
      "source": [
        "1.   Well-structured, formatted, and commented code is required.\n",
        "2.   Exception Handling, Production Grade Code & Deployment Ready Code will be a plus. Those students will be awarded some additional credits.\n",
        "     \n",
        "     The additional credits will have advantages over other students during Star Student selection.\n",
        "       \n",
        "             [ Note: - Deployment Ready Code is defined as, the whole .ipynb notebook should be executable in one go\n",
        "                       without a single error logged. ]\n",
        "\n",
        "3.   Each and every logic should have proper comments.\n",
        "4. You may add as many number of charts you want. Make Sure for each and every chart the following format should be answered.\n",
        "        \n",
        "\n",
        "```\n",
        "# Chart visualization code\n",
        "```\n",
        "            \n",
        "\n",
        "*   Why did you pick the specific chart?\n",
        "*   What is/are the insight(s) found from the chart?\n",
        "* Will the gained insights help creating a positive business impact?\n",
        "Are there any insights that lead to negative growth? Justify with specific reason.\n",
        "\n",
        "5. You have to create at least 20 logical & meaningful charts having important insights.\n",
        "\n",
        "\n",
        "[ Hints : - Do the Vizualization in  a structured way while following \"UBM\" Rule.\n",
        "\n",
        "U - Univariate Analysis,\n",
        "\n",
        "B - Bivariate Analysis (Numerical - Categorical, Numerical - Numerical, Categorical - Categorical)\n",
        "\n",
        "M - Multivariate Analysis\n",
        " ]\n",
        "\n",
        "\n",
        "\n"
      ],
      "metadata": {
        "id": "ZrxVaUj-hHfC"
      }
    },
    {
      "cell_type": "markdown",
      "source": [
        "# ***Let's Begin !***"
      ],
      "metadata": {
        "id": "O_i_v8NEhb9l"
      }
    },
    {
      "cell_type": "markdown",
      "source": [
        "## ***1. Know Your Data***"
      ],
      "metadata": {
        "id": "HhfV-JJviCcP"
      }
    },
    {
      "cell_type": "markdown",
      "source": [
        "### Import Libraries"
      ],
      "metadata": {
        "id": "Y3lxredqlCYt"
      }
    },
    {
      "cell_type": "code",
      "source": [
        "# Import Libraries\n",
        "import numpy as np\n",
        "import pandas as pd\n",
        "import seaborn as sns\n",
        "import matplotlib.pyplot as plt"
      ],
      "metadata": {
        "id": "M8Vqi-pPk-HR"
      },
      "execution_count": null,
      "outputs": []
    },
    {
      "cell_type": "code",
      "source": [
        "## Dataset link\n",
        "## https://drive.google.com/file/d/1xdS1IfPeP8p-3aeGQ-W7hYN9yq8K7Bcd/view?usp=sharing\n",
        "## https://drive.google.com/file/d/1AZbZtxH6KXrhLTj9OagXKUoWdPzjzgnp/view?usp=sharing"
      ],
      "metadata": {
        "id": "MTduSi0SQZuE"
      },
      "execution_count": null,
      "outputs": []
    },
    {
      "cell_type": "markdown",
      "source": [
        "### Dataset Loading"
      ],
      "metadata": {
        "id": "3RnN4peoiCZX"
      }
    },
    {
      "cell_type": "code",
      "source": [
        "from google.colab import files\n",
        "uploaded = files.upload()\n"
      ],
      "metadata": {
        "id": "srrZz0GhRQj5"
      },
      "execution_count": null,
      "outputs": []
    },
    {
      "cell_type": "code",
      "source": [
        "from google.colab import files\n",
        "uploaded = files.upload()"
      ],
      "metadata": {
        "id": "ooQ4buWVRQIr"
      },
      "execution_count": null,
      "outputs": []
    },
    {
      "cell_type": "code",
      "source": [
        "playstore_data= pd.read_csv('/content/Play Store Data.csv')\n",
        "playstore_data"
      ],
      "metadata": {
        "id": "kVK0AE9VR_tF"
      },
      "execution_count": null,
      "outputs": []
    },
    {
      "cell_type": "code",
      "source": [
        "reviews_data= pd.read_csv('/content/User Reviews.csv')\n",
        "reviews_data"
      ],
      "metadata": {
        "id": "UKKUyh1qSd8W"
      },
      "execution_count": null,
      "outputs": []
    },
    {
      "cell_type": "markdown",
      "source": [
        "### Dataset First View"
      ],
      "metadata": {
        "id": "x71ZqKXriCWQ"
      }
    },
    {
      "cell_type": "code",
      "source": [
        "# Dataset First Look\n",
        "playstore_data.head()          ## gives first five 5 by default."
      ],
      "metadata": {
        "id": "LWNFOSvLl09H"
      },
      "execution_count": null,
      "outputs": []
    },
    {
      "cell_type": "markdown",
      "source": [
        "### Dataset Rows & Columns count"
      ],
      "metadata": {
        "id": "7hBIi_osiCS2"
      }
    },
    {
      "cell_type": "code",
      "source": [
        "# Dataset Rows & Columns count\n",
        "playstore_data.shape"
      ],
      "metadata": {
        "id": "Kllu7SJgmLij"
      },
      "execution_count": null,
      "outputs": []
    },
    {
      "cell_type": "markdown",
      "source": [
        "### Dataset Information"
      ],
      "metadata": {
        "id": "JlHwYmJAmNHm"
      }
    },
    {
      "cell_type": "code",
      "source": [
        "# Dataset Info\n",
        "playstore_data.info()      # info gives the data type, non-null, count"
      ],
      "metadata": {
        "id": "e9hRXRi6meOf"
      },
      "execution_count": null,
      "outputs": []
    },
    {
      "cell_type": "code",
      "source": [
        "reviews_data.info()"
      ],
      "metadata": {
        "id": "DeBlAyp_4bFt"
      },
      "execution_count": null,
      "outputs": []
    },
    {
      "cell_type": "markdown",
      "source": [
        "#### Duplicate Values"
      ],
      "metadata": {
        "id": "35m5QtbWiB9F"
      }
    },
    {
      "cell_type": "code",
      "source": [
        "# Dataset Duplicate Value Count\n",
        "len(playstore_data[playstore_data.duplicated()])"
      ],
      "metadata": {
        "id": "1sLdpKYkmox0"
      },
      "execution_count": null,
      "outputs": []
    },
    {
      "cell_type": "code",
      "source": [
        "len(reviews_data[reviews_data.duplicated()])"
      ],
      "metadata": {
        "id": "jM36RJC44hG4"
      },
      "execution_count": null,
      "outputs": []
    },
    {
      "cell_type": "markdown",
      "source": [
        "#### Missing Values/Null Values"
      ],
      "metadata": {
        "id": "PoPl-ycgm1ru"
      }
    },
    {
      "cell_type": "code",
      "source": [
        "# Missing Values/Null Values Count\n",
        "print(playstore_data.isnull().sum())"
      ],
      "metadata": {
        "id": "GgHWkxvamxVg"
      },
      "execution_count": null,
      "outputs": []
    },
    {
      "cell_type": "code",
      "source": [
        "# Visualizing the missing values\n",
        "sns.heatmap(playstore_data.isnull(), cbar=False)"
      ],
      "metadata": {
        "id": "3q5wnI3om9sJ"
      },
      "execution_count": null,
      "outputs": []
    },
    {
      "cell_type": "markdown",
      "source": [
        "### What did you know about your dataset?"
      ],
      "metadata": {
        "id": "H0kj-8xxnORC"
      }
    },
    {
      "cell_type": "markdown",
      "source": [
        "There are two datasets provided to draw the actionable insights.\n",
        "\n",
        "Playstore app data which contains data related to Category,Rating,Reviews, Size,Installs,Type,Price,Content,Rating,Genres,Last Updated,Current version and Android Version.It has 10841 rows and 13 columns. There are 483 duplicated value counts.\n",
        "\n",
        "Reviews data which contains data related to App,Translated_Review,Sentiment, Sentiment_Polarity,Sentiment_Subjectivity."
      ],
      "metadata": {
        "id": "gfoNAAC-nUe_"
      }
    },
    {
      "cell_type": "markdown",
      "source": [
        "## ***2. Understanding Your Variables***"
      ],
      "metadata": {
        "id": "nA9Y7ga8ng1Z"
      }
    },
    {
      "cell_type": "code",
      "source": [
        "# Dataset Columns\n",
        "playstore_data.columns"
      ],
      "metadata": {
        "id": "j7xfkqrt5Ag5"
      },
      "execution_count": null,
      "outputs": []
    },
    {
      "cell_type": "code",
      "source": [
        "reviews_data.columns"
      ],
      "metadata": {
        "id": "Wi9b8L6X40qu"
      },
      "execution_count": null,
      "outputs": []
    },
    {
      "cell_type": "code",
      "source": [
        "# Dataset Describe\n",
        "playstore_data.describe(include='all')"
      ],
      "metadata": {
        "id": "DnOaZdaE5Q5t"
      },
      "execution_count": null,
      "outputs": []
    },
    {
      "cell_type": "markdown",
      "source": [
        "### Check Unique Values for each variable."
      ],
      "metadata": {
        "id": "u3PMJOP6ngxN"
      }
    },
    {
      "cell_type": "code",
      "source": [
        "# Check Unique Values for each variable.\n",
        "for x in playstore_data.columns.tolist():\n",
        "  print(\"No. of unique values in \",x,\"is\",playstore_data[x].nunique(),\".\")"
      ],
      "metadata": {
        "id": "zms12Yq5n-jE"
      },
      "execution_count": null,
      "outputs": []
    },
    {
      "cell_type": "markdown",
      "source": [
        "## 3. ***Data Wrangling***"
      ],
      "metadata": {
        "id": "dauF4eBmngu3"
      }
    },
    {
      "cell_type": "markdown",
      "source": [
        "Data Wrangling is the process of Transforming,cleaning the messy data"
      ],
      "metadata": {
        "id": "CHbYEinIBGFI"
      }
    },
    {
      "cell_type": "markdown",
      "source": [
        "### Data Wrangling Code"
      ],
      "metadata": {
        "id": "bKJF3rekwFvQ"
      }
    },
    {
      "cell_type": "code",
      "source": [
        "# code to make dataset analysis ready.\n",
        "# Merge the Play Store data with user reviews based on the 'App' column\n",
        "merged_df = pd.merge(playstore_data, reviews_data, on='App', how='left')\n",
        "\n",
        "# Display the merged dataset\n",
        "print(merged_df.head())       ## .head() gives by default top 5"
      ],
      "metadata": {
        "id": "wk-9a2fpoLcV"
      },
      "execution_count": null,
      "outputs": []
    },
    {
      "cell_type": "code",
      "source": [
        "## Data Cleaning\n",
        "## Now that the datasets are merged, clean the data by handling missing values, duplicates, etc.\n",
        "# Check the missing values in the merged dataset\n",
        "print(merged_df.isnull().sum())\n",
        "\n",
        "# Drop rows with missing 'Translated_Review' or 'Sentiment_Polarity' (or any other critical columns)\n",
        "merged_df.dropna(subset=['Translated_Review', 'Sentiment_Polarity'], inplace=True)\n",
        "\n",
        "# Remove duplicate reviews for the same app (if needed)\n",
        "merged_df.drop_duplicates(subset=['App', 'Translated_Review'], inplace=True)\n",
        "\n",
        "# Check again for missing values after cleaning\n",
        "print(merged_df.isnull().sum())"
      ],
      "metadata": {
        "id": "zRzFon5X5f_h"
      },
      "execution_count": null,
      "outputs": []
    },
    {
      "cell_type": "code",
      "source": [
        "## Sentiment Aggregation\n",
        "## To get a high-level sentiment overview for each app--  aggregate the sentiment data\n",
        "# by calculating the average sentiment polarity or subjectivity for each app.\n",
        "# Group by 'App' and calculate average sentiment polarity and subjectivity\n",
        "sentiment_summary = merged_df.groupby('App').agg({\n",
        "    'Sentiment_Polarity': 'mean',  # Average sentiment polarity\n",
        "    'Sentiment_Subjectivity': 'mean'  # Average sentiment subjectivity\n",
        "}).reset_index()\n",
        "\n",
        "# Display the sentiment summary\n",
        "print(sentiment_summary.head())\n"
      ],
      "metadata": {
        "id": "9Ej3-0ic52mb"
      },
      "execution_count": null,
      "outputs": []
    },
    {
      "cell_type": "code",
      "source": [
        "# Sentiment vs. Rating: Compare the sentiment of reviews (e.g., sentiment polarity) with the app rating to see if there's any correlation.\n",
        "# Correlation between sentiment polarity and rating\n",
        "sentiment_vs_rating = merged_df[['Rating', 'Sentiment_Polarity']].corr()\n",
        "print(sentiment_vs_rating)"
      ],
      "metadata": {
        "id": "LbbbYOJZ6MMj"
      },
      "execution_count": null,
      "outputs": []
    },
    {
      "cell_type": "code",
      "source": [
        "# Sentiment Distribution by App Category: You can analyze how sentiment varies across different categories of apps.\n",
        "# Sentiment distribution by category\n",
        "sentiment_by_category = merged_df.groupby('Category').agg({\n",
        "    'Sentiment_Polarity': 'mean'\n",
        "}).sort_values('Sentiment_Polarity', ascending=False)\n",
        "\n",
        "print(sentiment_by_category.head())"
      ],
      "metadata": {
        "id": "oC-Vf5TN6Yuy"
      },
      "execution_count": null,
      "outputs": []
    },
    {
      "cell_type": "code",
      "source": [
        "# Top Apps Based on Average Sentiment: Identify the top-rated apps based on sentiment or average review sentiment polarity.\n",
        "# Top 5 apps with the highest average sentiment polarity\n",
        "top_positive_apps = sentiment_summary.sort_values('Sentiment_Polarity', ascending=False).head(5)\n",
        "print(top_positive_apps)\n",
        "\n",
        "# Top 5 apps with the lowest average sentiment polarity\n",
        "top_negative_apps = sentiment_summary.sort_values('Sentiment_Polarity').head(5)\n",
        "print(top_negative_apps)"
      ],
      "metadata": {
        "id": "gtN4Ru8s6lPr"
      },
      "execution_count": null,
      "outputs": []
    },
    {
      "cell_type": "markdown",
      "source": [
        "### What all manipulations have you done and insights you found?"
      ],
      "metadata": {
        "id": "MSa1f5Uengrz"
      }
    },
    {
      "cell_type": "markdown",
      "source": [
        "To make the datasets analysis ready first merged the two datasets over the common column 'app'. Then performed Data Cleaning- as the datasets are merged, clean the data by handling missing values by checking for missing values in the merged dataset then drop rows with missing 'translated review or sentiment polarity and then remove duplicate reviews for the same app.\n",
        "\n",
        "Then performed Sentiment Aggregation- To get a high-level sentiment overview for each app, aggregated the sentiment data by calculating the average sentiment polarity or subjectivity for each app.\n",
        "And Group by 'App' and calculate average sentiment polarity and subjectivity.\n",
        "\n",
        "Then Compared the sentiment of reviews  with the app rating to see if there's any correlation.(Sentiment vs. Rating).\n",
        "\n",
        "Analyzed how sentiment varies across different categories of apps.\n",
        "(Sentiment Distribution by App Category).\n",
        "\n",
        "Then fetched the top Apps Based on Average Sentiment: Identify the top-rated apps based on sentiment or average review sentiment polarity.\n",
        "The Top 5 apps with the highest average sentiment polarity &\n",
        "The Top 5 apps with the lowest average sentiment polarity.\n",
        "\n",
        "INSIGHTS--\n",
        "After cleaning, all columns show zero missing values. This means your dataset is now complete with respect to critical columns..With no missing data, the analysis is more reliable, and you can move forward with generating accurate insights..\n",
        "The removal of duplicate reviews ensures that no repeated or redundant entries will distort the analysis ensureing that sentiment analysis, app ratings, and other metrics are based on unique user feedback, making conclusions more representative of the broader user base.\n",
        "\n",
        "\n",
        "Sentiment Polarity: This represents the overall emotional tone of the reviews for each app, where:\n",
        "A positive value (close to 1) indicates positive sentiment.\n",
        "A negative value (close to -1) indicates negative sentiment.\n",
        "A value close to 0 indicates neutral sentiment.\n",
        "Sentiment Subjectivity: This measures the degree to which the sentiment is subjective or opinion-based, with:\n",
        "A value close to 0 indicating more objective or factual feedback.\n",
        "A value close to 1 indicating more subjective or opinionated feedback.\n",
        "\n",
        "10 Best Foods for You\" has a positive sentiment polarity of 0.465906, indicating that users generally feel positively about the app. It also has a moderate sentiment subjectivity of 0.493254, meaning users' feedback is a balance of opinion-based and factual content.\n",
        "\n",
        "11st\" has a positive sentiment polarity of 0.185943, which is on the lower end of positive sentiment, indicating somewhat neutral-to-positive feedback.\n",
        "\n",
        "Most of the apps in the dataset seem to have a positive overall sentiment (average polarity above 0). This is a good sign, indicating that users are generally happy with the apps they are reviewing.\n",
        "The range of Sentiment_Polarity values indicates that while most apps have positive sentiment, some apps have lower or more neutral sentiment, suggesting room for improvement in user experience or functionality.\n",
        "\n",
        "The Sentiment_Subjectivity values are all relatively high, above 0.4 for most apps, indicating that user feedback tends to be more opinion-based rather than objective.\n",
        "\n",
        "The correlation coefficient between Rating and Sentiment_Polarity is 0.111607, which is a very weak positive correlation. This indicates that there is no strong relationship between the rating given to an app and the sentiment polarity of the reviews.This means a higher rating does not necessarily mean more positive sentiment in the reviews, and lower ratings do not automatically correlate with negative sentiment.\n",
        "\n",
        "\n",
        "\n"
      ],
      "metadata": {
        "id": "LbyXE7I1olp8"
      }
    },
    {
      "cell_type": "markdown",
      "source": [
        "## ***4. Data Vizualization, Storytelling & Experimenting with charts : Understand the relationships between variables***"
      ],
      "metadata": {
        "id": "GF8Ens_Soomf"
      }
    },
    {
      "cell_type": "markdown",
      "source": [
        "#### Chart - 1"
      ],
      "metadata": {
        "id": "0wOQAZs5pc--"
      }
    },
    {
      "cell_type": "code",
      "source": [
        "# Chart - 1 visualization code\n",
        "sns.barplot(x='Category', y='Rating', data=merged_df, ci=None)\n",
        "\n",
        "# Rotate the x-axis labels for better readability\n",
        "plt.xticks(rotation=90)\n",
        "plt.title(\"Average Rating by App Category\")\n",
        "plt.show()"
      ],
      "metadata": {
        "id": "7v_ESjsspbW7"
      },
      "execution_count": null,
      "outputs": []
    },
    {
      "cell_type": "markdown",
      "source": [
        "##### 1. Why did you pick the specific chart?"
      ],
      "metadata": {
        "id": "K5QZ13OEpz2H"
      }
    },
    {
      "cell_type": "markdown",
      "source": [
        "X-axis: Categories (e.g., Games, Social, Productivity).\n",
        "Y-axis: Average rating of apps in each category.\n",
        "The plot helps compare ratings across categories and shows which categories tend to have better user ratings.\n"
      ],
      "metadata": {
        "id": "XESiWehPqBRc"
      }
    },
    {
      "cell_type": "markdown",
      "source": [
        "##### 2. What is/are the insight(s) found from the chart?"
      ],
      "metadata": {
        "id": "lQ7QKXXCp7Bj"
      }
    },
    {
      "cell_type": "markdown",
      "source": [
        "A bar plot helps us understand Auto and vehicles app categories have the highest average ratings."
      ],
      "metadata": {
        "id": "C_j1G7yiqdRP"
      }
    },
    {
      "cell_type": "markdown",
      "source": [
        "#### Chart - 2"
      ],
      "metadata": {
        "id": "KSlN3yHqYklG"
      }
    },
    {
      "cell_type": "code",
      "source": [
        "# Chart - 2 visualization code\n",
        "sns.histplot(merged_df['Rating'], bins=10, kde=True)\n",
        "\n",
        "plt.title(\"Distribution of Ratings for All Apps\")\n",
        "plt.xlabel(\"Rating\")\n",
        "plt.ylabel(\"Frequency\")\n",
        "plt.show()"
      ],
      "metadata": {
        "id": "R4YgtaqtYklH"
      },
      "execution_count": null,
      "outputs": []
    },
    {
      "cell_type": "markdown",
      "source": [
        "##### 1. Why did you pick the specific chart?"
      ],
      "metadata": {
        "id": "t6dVpIINYklI"
      }
    },
    {
      "cell_type": "markdown",
      "source": [
        "A histogram shows the distribution of ratings across all apps. This is useful for identifying whether ratings are skewed and understanding the overall spread of ratings.It also helps to visualize if ratings are clustered around a certain value."
      ],
      "metadata": {
        "id": "5aaW0BYyYklI"
      }
    },
    {
      "cell_type": "markdown",
      "source": [
        "##### 2. What is/are the insight(s) found from the chart?"
      ],
      "metadata": {
        "id": "ijmpgYnKYklI"
      }
    },
    {
      "cell_type": "markdown",
      "source": [
        "This shows how ratings are distributed.\n",
        "Ratings are ledt skewed."
      ],
      "metadata": {
        "id": "PSx9atu2YklI"
      }
    },
    {
      "cell_type": "markdown",
      "source": [
        "#### Chart - 3"
      ],
      "metadata": {
        "id": "EM7whBJCYoAo"
      }
    },
    {
      "cell_type": "code",
      "source": [
        "# Chart - 3 visualization code\n",
        "sns.scatterplot(x='Rating', y='Sentiment_Polarity', data=merged_df)\n",
        "\n",
        "plt.title(\"Rating vs Sentiment Polarity\")\n",
        "plt.xlabel(\"Rating\")\n",
        "plt.ylabel(\"Sentiment Polarity\")\n",
        "plt.show()"
      ],
      "metadata": {
        "id": "t6GMdE67YoAp"
      },
      "execution_count": null,
      "outputs": []
    },
    {
      "cell_type": "markdown",
      "source": [
        "##### 1. Why did you pick the specific chart?"
      ],
      "metadata": {
        "id": "fge-S5ZAYoAp"
      }
    },
    {
      "cell_type": "markdown",
      "source": [
        "A scatter plot helps to visualize the relationship between Rating and Sentiment Polarity. Does a more positive sentiment correlate with a higher rating?"
      ],
      "metadata": {
        "id": "5dBItgRVYoAp"
      }
    },
    {
      "cell_type": "markdown",
      "source": [
        "##### 2. What is/are the insight(s) found from the chart?"
      ],
      "metadata": {
        "id": "85gYPyotYoAp"
      }
    },
    {
      "cell_type": "markdown",
      "source": [
        "The rating and sentiment polarity are scattered across the graph."
      ],
      "metadata": {
        "id": "4jstXR6OYoAp"
      }
    },
    {
      "cell_type": "markdown",
      "source": [
        "#### Chart - 4"
      ],
      "metadata": {
        "id": "4Of9eVA-YrdM"
      }
    },
    {
      "cell_type": "code",
      "source": [
        "# Chart - 4 visualization code\n",
        "app_type_counts = merged_df['Type'].value_counts()\n",
        "\n",
        "# Create a pie chart\n",
        "app_type_counts.plot.pie(autopct='%1.1f%%', startangle=90, colors=['skyblue', 'red'])\n",
        "\n",
        "plt.title(\"Proportion of Free vs Paid Apps\")\n",
        "plt.ylabel('')  # Hides the y-axis label\n",
        "plt.show()\n"
      ],
      "metadata": {
        "id": "irlUoxc8YrdO"
      },
      "execution_count": null,
      "outputs": []
    },
    {
      "cell_type": "markdown",
      "source": [
        "##### 1. Why did you pick the specific chart?"
      ],
      "metadata": {
        "id": "iky9q4vBYrdO"
      }
    },
    {
      "cell_type": "markdown",
      "source": [
        "A pie chart shows the proportion of Free vs. Paid apps. This is a quick way to see how many apps are free versus paid in the Play Store."
      ],
      "metadata": {
        "id": "aJRCwT6DYrdO"
      }
    },
    {
      "cell_type": "markdown",
      "source": [
        "##### 2. What is/are the insight(s) found from the chart?"
      ],
      "metadata": {
        "id": "F6T5p64dYrdO"
      }
    },
    {
      "cell_type": "markdown",
      "source": [
        "Pie chart to display the proportion of apps that are Free vs. Paid.\n",
        "This gives an immediate view of the distribution of app types in the dataset.\n",
        "Most of the apps are free."
      ],
      "metadata": {
        "id": "Xx8WAJvtYrdO"
      }
    },
    {
      "cell_type": "markdown",
      "source": [
        "#### Chart - 5"
      ],
      "metadata": {
        "id": "bamQiAODYuh1"
      }
    },
    {
      "cell_type": "code",
      "source": [
        "# Chart - 5 visualization code\n",
        "sns.boxplot(x='Category', y='Rating', data=merged_df)\n",
        "\n",
        "plt.title(\"Rating Distribution by App Category\")\n",
        "plt.xticks(rotation=90)\n",
        "plt.show()"
      ],
      "metadata": {
        "id": "TIJwrbroYuh3"
      },
      "execution_count": null,
      "outputs": []
    },
    {
      "cell_type": "markdown",
      "source": [
        "##### 1. Why did you pick the specific chart?"
      ],
      "metadata": {
        "id": "QHF8YVU7Yuh3"
      }
    },
    {
      "cell_type": "markdown",
      "source": [
        "A box plot will show the distribution of ratings within each app category, including median, interquartile range (IQR), and potential outliers. This helps to understand the spread of ratings within different categories."
      ],
      "metadata": {
        "id": "dcxuIMRPYuh3"
      }
    },
    {
      "cell_type": "markdown",
      "source": [
        "##### 2. What is/are the insight(s) found from the chart?"
      ],
      "metadata": {
        "id": "GwzvFGzlYuh3"
      }
    },
    {
      "cell_type": "markdown",
      "source": [
        "This graph demonstrate the outliers and the median for all the categories."
      ],
      "metadata": {
        "id": "uyqkiB8YYuh3"
      }
    },
    {
      "cell_type": "markdown",
      "source": [
        "#### Chart - 6"
      ],
      "metadata": {
        "id": "OH-pJp9IphqM"
      }
    },
    {
      "cell_type": "code",
      "source": [
        "# Chart - 6 visualization code\n",
        "## Visualise the insights of top 5 performing and bottom 5 apps\n",
        "import matplotlib.pyplot as plt\n",
        "import seaborn as sns\n",
        "\n",
        "# Top Positive Apps\n",
        "top_positive_apps = sentiment_summary.sort_values('Sentiment_Polarity', ascending=False).head(5)\n",
        "\n",
        "# Top Negative Apps\n",
        "top_negative_apps = sentiment_summary.sort_values('Sentiment_Polarity').head(5)\n",
        "\n",
        "# Combine the data for plotting\n",
        "top_apps = pd.concat([top_positive_apps[['App', 'Sentiment_Polarity']],\n",
        "                      top_negative_apps[['App', 'Sentiment_Polarity']]])\n",
        "\n",
        "# Plot\n",
        "plt.figure(figsize=(10, 6))\n",
        "sns.barplot(x='Sentiment_Polarity', y='App', data=top_apps, palette='magma')\n",
        "plt.title('Top Positive and Negative Apps Based on Sentiment Polarity')\n",
        "plt.xlabel('Sentiment Polarity')\n",
        "plt.ylabel('App')\n",
        "plt.show()"
      ],
      "metadata": {
        "id": "kuRf4wtuphqN"
      },
      "execution_count": null,
      "outputs": []
    },
    {
      "cell_type": "markdown",
      "source": [
        "##### 1. Why did you pick the specific chart?"
      ],
      "metadata": {
        "id": "bbFf2-_FphqN"
      }
    },
    {
      "cell_type": "markdown",
      "source": [
        "Bar charts are well-suited for displaying categorical data because they allow you to clearly see differences."
      ],
      "metadata": {
        "id": "loh7H2nzphqN"
      }
    },
    {
      "cell_type": "markdown",
      "source": [
        "##### 2. What is/are the insight(s) found from the chart?"
      ],
      "metadata": {
        "id": "_ouA3fa0phqN"
      }
    },
    {
      "cell_type": "markdown",
      "source": [
        "The top 5 performing apps and the bottom 5 apps are found from this easily."
      ],
      "metadata": {
        "id": "VECbqPI7phqN"
      }
    },
    {
      "cell_type": "markdown",
      "source": [
        "##### 3. Will the gained insights help creating a positive business impact?\n",
        "Are there any insights that lead to negative growth? Justify with specific reason."
      ],
      "metadata": {
        "id": "Seke61FWphqN"
      }
    },
    {
      "cell_type": "markdown",
      "source": [
        "The insights help to decide which all apps need more innovation,creativity and focus to appeal more to the people and the apps which are top performing can lead which all factors make them most used and what more can be done."
      ],
      "metadata": {
        "id": "DW4_bGpfphqN"
      }
    },
    {
      "cell_type": "markdown",
      "source": [
        "#### Chart - 7"
      ],
      "metadata": {
        "id": "PIIx-8_IphqN"
      }
    },
    {
      "cell_type": "code",
      "source": [
        "# Chart - 7 visualization code\n",
        "average_sentiment_by_category = merged_df.groupby('Category')['Sentiment_Polarity'].mean().sort_values(ascending=False)\n",
        "sns.barplot(x=average_sentiment_by_category.index, y=average_sentiment_by_category.values)\n",
        "plt.xticks(rotation=90)\n",
        "plt.title('Average Sentiment Polarity by Category')\n",
        "plt.xlabel('Category')\n",
        "plt.ylabel('Average Sentiment Polarity')\n",
        "plt.show()"
      ],
      "metadata": {
        "id": "lqAIGUfyphqO"
      },
      "execution_count": null,
      "outputs": []
    },
    {
      "cell_type": "markdown",
      "source": [
        "##### 1. Why did you pick the specific chart?"
      ],
      "metadata": {
        "id": "t27r6nlMphqO"
      }
    },
    {
      "cell_type": "markdown",
      "source": [
        "Bar plot helps in comparing beteen the categorical data.\n",
        "\n",
        "Y-axis has Average Sentiment Polarity\n",
        "\n",
        "X-axis has Category related data"
      ],
      "metadata": {
        "id": "iv6ro40sphqO"
      }
    },
    {
      "cell_type": "markdown",
      "source": [
        "##### 2. What is/are the insight(s) found from the chart?"
      ],
      "metadata": {
        "id": "r2jJGEOYphqO"
      }
    },
    {
      "cell_type": "markdown",
      "source": [
        "Maximum average sentiment Polarity is in the Comics category,followed by Events and auto & vehicles.\n",
        "Minimum average polarity is in Games and Social category apps."
      ],
      "metadata": {
        "id": "Po6ZPi4hphqO"
      }
    },
    {
      "cell_type": "markdown",
      "source": [
        "#### Chart - 8"
      ],
      "metadata": {
        "id": "BZR9WyysphqO"
      }
    },
    {
      "cell_type": "code",
      "source": [
        "# Chart - 8 visualization code\n",
        "# Sentiment distribution of reviews for the apps\n",
        "sns.countplot(data=merged_df, x='Sentiment')\n",
        "plt.title('Sentiment Distribution of Reviews')\n",
        "plt.xlabel('Sentiment')\n",
        "plt.ylabel('Number of Reviews')\n",
        "plt.show()"
      ],
      "metadata": {
        "id": "TdPTWpAVphqO"
      },
      "execution_count": null,
      "outputs": []
    },
    {
      "cell_type": "markdown",
      "source": [
        "##### 1. Why did you pick the specific chart?"
      ],
      "metadata": {
        "id": "jj7wYXLtphqO"
      }
    },
    {
      "cell_type": "markdown",
      "source": [
        "Count Plot demonstates the count of the distribution of reviews as per the sentiment."
      ],
      "metadata": {
        "id": "Ob8u6rCTphqO"
      }
    },
    {
      "cell_type": "markdown",
      "source": [
        "##### 2. What is/are the insight(s) found from the chart?"
      ],
      "metadata": {
        "id": "eZrbJ2SmphqO"
      }
    },
    {
      "cell_type": "markdown",
      "source": [
        "Majority of the reviews have positive sentiments followed by negative but quite less than the positive ones. Few users also have neutral sentiments regarding the apps."
      ],
      "metadata": {
        "id": "mZtgC_hjphqO"
      }
    },
    {
      "cell_type": "markdown",
      "source": [
        "##### 3. Will the gained insights help creating a positive business impact?\n",
        "Are there any insights that lead to negative growth? Justify with specific reason."
      ],
      "metadata": {
        "id": "rFu4xreNphqO"
      }
    },
    {
      "cell_type": "markdown",
      "source": [
        "It motivates the apps with positiv reviews that they are on track and give scope for improvement to the apps with neutral ones and need to focus on the negative reviews and change accordingly."
      ],
      "metadata": {
        "id": "ey_0qi68phqO"
      }
    },
    {
      "cell_type": "markdown",
      "source": [
        "#### Chart - 9"
      ],
      "metadata": {
        "id": "YJ55k-q6phqO"
      }
    },
    {
      "cell_type": "code",
      "source": [
        "# Chart - 9 visualization code\n",
        "# Bar plot for Count of Apps by Category\n",
        "plt.figure(figsize=(10, 6))\n",
        "sns.countplot(data=merged_df, x='Category', palette='viridis')\n",
        "plt.title('Number of Apps by Category')\n",
        "plt.xlabel('Category')\n",
        "plt.ylabel('Count of Apps')\n",
        "plt.xticks(rotation=90)\n",
        "plt.show()"
      ],
      "metadata": {
        "id": "B2aS4O1ophqO"
      },
      "execution_count": null,
      "outputs": []
    },
    {
      "cell_type": "markdown",
      "source": [
        "##### 1. Why did you pick the specific chart?"
      ],
      "metadata": {
        "id": "gCFgpxoyphqP"
      }
    },
    {
      "cell_type": "markdown",
      "source": [
        "Bar plot to count the numbers of apps for all categories.\n",
        "\n",
        "X-axis has Category of the apps\n",
        "\n",
        "Y-axis has Count of apps."
      ],
      "metadata": {
        "id": "TVxDimi2phqP"
      }
    },
    {
      "cell_type": "markdown",
      "source": [
        "##### 2. What is/are the insight(s) found from the chart?"
      ],
      "metadata": {
        "id": "OVtJsKN_phqQ"
      }
    },
    {
      "cell_type": "markdown",
      "source": [
        "Maximum apps are of the Games category followed by Family category\n",
        "and the least count of apps are of the Comics category."
      ],
      "metadata": {
        "id": "ngGi97qjphqQ"
      }
    },
    {
      "cell_type": "markdown",
      "source": [
        "#### Chart - 10"
      ],
      "metadata": {
        "id": "U2RJ9gkRphqQ"
      }
    },
    {
      "cell_type": "code",
      "source": [
        "# Chart - 10 visualization code\n",
        "## Genre-wise Average Rating\n",
        "plt.figure(figsize=(10, 5))\n",
        "sns.barplot(data=merged_df, x='Genres', y='Rating', estimator='mean')\n",
        "plt.title('Average Rating by Genre')\n",
        "plt.xticks(rotation=90)\n",
        "plt.show()"
      ],
      "metadata": {
        "id": "GM7a4YP4phqQ"
      },
      "execution_count": null,
      "outputs": []
    },
    {
      "cell_type": "markdown",
      "source": [
        "##### 1. Why did you pick the specific chart?"
      ],
      "metadata": {
        "id": "1M8mcRywphqQ"
      }
    },
    {
      "cell_type": "markdown",
      "source": [
        "To identify the specific comparison between different genre on the basis of average rating"
      ],
      "metadata": {
        "id": "8agQvks0phqQ"
      }
    },
    {
      "cell_type": "markdown",
      "source": [
        "#### Chart - 11"
      ],
      "metadata": {
        "id": "x-EpHcCOp1ci"
      }
    },
    {
      "cell_type": "code",
      "source": [
        "# Chart - 11 visualization code\n",
        "## App Type Distribution (Free vs Paid)\n",
        "plt.figure(figsize=(10, 6))\n",
        "sns.countplot(data=merged_df, x='Type')\n",
        "plt.title('App Type Distribution (Free vs Paid)')\n",
        "plt.show()"
      ],
      "metadata": {
        "id": "mAQTIvtqp1cj"
      },
      "execution_count": null,
      "outputs": []
    },
    {
      "cell_type": "markdown",
      "source": [
        "##### 1. Why did you pick the specific chart?"
      ],
      "metadata": {
        "id": "X_VqEhTip1ck"
      }
    },
    {
      "cell_type": "markdown",
      "source": [
        "This count chart helps to count the number of the apps that are free and paid."
      ],
      "metadata": {
        "id": "-vsMzt_np1ck"
      }
    },
    {
      "cell_type": "markdown",
      "source": [
        "##### 2. What is/are the insight(s) found from the chart?"
      ],
      "metadata": {
        "id": "8zGJKyg5p1ck"
      }
    },
    {
      "cell_type": "markdown",
      "source": [
        "Most of the apps are available free of cost and that enhances its chance of more installation and usage whereas paid apps are very less in count."
      ],
      "metadata": {
        "id": "ZYdMsrqVp1ck"
      }
    },
    {
      "cell_type": "markdown",
      "source": [
        "#### Chart - 12"
      ],
      "metadata": {
        "id": "n3dbpmDWp1ck"
      }
    },
    {
      "cell_type": "code",
      "source": [
        "# Chart - 12 visualization code\n",
        "\n",
        "# Ensure 'Installs' is cleaned to remove non-numeric characters\n",
        "merged_df['Installs'] = merged_df['Installs'].str.replace(',', '').str.replace('+', '').astype(int)\n",
        "\n",
        "# Filter the data for Free and Paid apps\n",
        "install_by_type = merged_df.groupby('Type')['Installs'].mean().reset_index()\n",
        "\n",
        "# Plotting the bar chart for Free vs Paid Apps and their average installs\n",
        "plt.figure(figsize=(10, 6))\n",
        "sns.barplot(data=install_by_type, x='Type', y='Installs', palette='viridis')\n",
        "plt.title('Average Installs for Free vs Paid Apps')\n",
        "plt.xlabel('App Type')\n",
        "plt.ylabel('Average Installs')\n",
        "plt.show()"
      ],
      "metadata": {
        "id": "bwevp1tKp1ck"
      },
      "execution_count": null,
      "outputs": []
    },
    {
      "cell_type": "markdown",
      "source": [
        "##### 1. Why did you pick the specific chart?"
      ],
      "metadata": {
        "id": "ylSl6qgtp1ck"
      }
    },
    {
      "cell_type": "markdown",
      "source": [
        "This chart is to further strengthen the last chart insights regarding the installation of free and paid apps."
      ],
      "metadata": {
        "id": "m2xqNkiQp1ck"
      }
    },
    {
      "cell_type": "markdown",
      "source": [
        "##### 2. What is/are the insight(s) found from the chart?\n",
        "\n",
        "\n",
        "\n",
        "\n"
      ],
      "metadata": {
        "id": "ZWILFDl5p1ck"
      }
    },
    {
      "cell_type": "markdown",
      "source": [
        "The most installed apps are those which are free whereas paid apps are installed by specific people who might have customized the app."
      ],
      "metadata": {
        "id": "x-lUsV2mp1ck"
      }
    },
    {
      "cell_type": "markdown",
      "source": [
        "##### 3. Will the gained insights help creating a positive business impact?\n",
        "Are there any insights that lead to negative growth? Justify with specific reason."
      ],
      "metadata": {
        "id": "M7G43BXep1ck"
      }
    },
    {
      "cell_type": "markdown",
      "source": [
        "The chances of installation and usage are more when the app is free. So to give the taste of the app to the users free app are better."
      ],
      "metadata": {
        "id": "5wwDJXsLp1cl"
      }
    },
    {
      "cell_type": "markdown",
      "source": [
        "#### Chart - 13"
      ],
      "metadata": {
        "id": "Ag9LCva-p1cl"
      }
    },
    {
      "cell_type": "code",
      "source": [
        "# Chart - 13 visualization code\n",
        "# Rating Distribution by Content Rating\n",
        "plt.figure(figsize=(8, 4))\n",
        "sns.boxplot(data=merged_df, x='Content Rating', y='Rating', palette='Set3')\n",
        "plt.title('Rating Distribution by Content Rating')\n",
        "plt.xlabel('Content Rating')\n",
        "plt.ylabel('Rating')\n",
        "plt.xticks(rotation=45)\n",
        "plt.show()\n"
      ],
      "metadata": {
        "id": "EUfxeq9-p1cl"
      },
      "execution_count": null,
      "outputs": []
    },
    {
      "cell_type": "markdown",
      "source": [
        "##### 1. Why did you pick the specific chart?"
      ],
      "metadata": {
        "id": "E6MkPsBcp1cl"
      }
    },
    {
      "cell_type": "markdown",
      "source": [
        "This Box plot is to identify the outliers in the content rating an drating of the apps."
      ],
      "metadata": {
        "id": "V22bRsFWp1cl"
      }
    },
    {
      "cell_type": "markdown",
      "source": [
        "#### Chart - 14 - Correlation Heatmap"
      ],
      "metadata": {
        "id": "NC_X3p0fY2L0"
      }
    },
    {
      "cell_type": "code",
      "source": [
        "# Correlation Heatmap visualization code\n",
        "\n",
        "# Step 1: Convert 'Reviews' to string first, then remove non-numeric characters like commas, plus signs\n",
        "merged_df['Reviews'] = merged_df['Reviews'].astype(str).str.replace(r'[^\\d]', '', regex=True)\n",
        "\n",
        "# Step 2: Convert 'Reviews' column to float, handling any conversion errors (in case of invalid strings)\n",
        "merged_df['Reviews'] = pd.to_numeric(merged_df['Reviews'], errors='coerce')\n",
        "\n",
        "# Step 3: Convert 'Size' to numeric (handling M for megabytes and k for kilobytes)\n",
        "def convert_size(size):\n",
        "    if isinstance(size, str):\n",
        "        if 'M' in size:\n",
        "            return float(size.replace('M', ''))  # Convert to megabytes\n",
        "        elif 'k' in size:\n",
        "            return float(size.replace('k', '')) / 1024  # Convert to megabytes\n",
        "    return None  # In case of invalid size\n",
        "\n",
        "merged_df['Size'] = merged_df['Size'].apply(lambda x: convert_size(str(x)) if isinstance(x, str) else None)\n",
        "\n",
        "# Step 4: Check for NaN values in relevant columns and drop rows with NaN values\n",
        "merged_df = merged_df.dropna(subset=['Reviews', 'Rating', 'Sentiment_Polarity', 'Size'])\n",
        "\n",
        "# Step 5: Calculate the correlation matrix\n",
        "correlation_data = merged_df[['Reviews', 'Rating', 'Sentiment_Polarity', 'Size']]\n",
        "correlation_matrix = correlation_data.corr()\n",
        "\n",
        "# Step 6: Plot the correlation heatmap\n",
        "plt.figure(figsize=(8, 6))\n",
        "sns.heatmap(correlation_matrix, annot=True, cmap='coolwarm', linewidths=0.5)\n",
        "plt.title('Correlation Heatmap of Numerical Features')\n",
        "plt.show()\n"
      ],
      "metadata": {
        "id": "xyC9zolEZNRQ"
      },
      "execution_count": null,
      "outputs": []
    },
    {
      "cell_type": "markdown",
      "source": [
        "# Why did you pick the specific chart"
      ],
      "metadata": {
        "id": "vKsnId_q6JF1"
      }
    },
    {
      "cell_type": "markdown",
      "source": [
        "The Heatmap gives the correlation regarding different numerical features of the dataset."
      ],
      "metadata": {
        "id": "ipt3a6zI6SAX"
      }
    },
    {
      "cell_type": "markdown",
      "source": [
        "##### 2. What is/are the insight(s) found from the chart?"
      ],
      "metadata": {
        "id": "E-8VV1wH6gC0"
      }
    },
    {
      "cell_type": "markdown",
      "source": [
        "The correlation of the heatmap --\n",
        "corr is 1 : strong relationship\n",
        "corr is 0 : No relationship\n",
        "corr is -1 : Negative relationship"
      ],
      "metadata": {
        "id": "N90XaNAn6vjC"
      }
    },
    {
      "cell_type": "markdown",
      "source": [
        "#### Chart - 15 - Pair Plot"
      ],
      "metadata": {
        "id": "q29F0dvdveiT"
      }
    },
    {
      "cell_type": "code",
      "source": [
        "# Pair Plot visualization code\n",
        "# Step 1: Plot a pairplot to visualize relationships between numerical features\n",
        "sns.pairplot(merged_df[['Reviews', 'Rating', 'Sentiment_Polarity', 'Size']])\n",
        "plt.suptitle('Pairplot of Numerical Features', y=1.02)\n",
        "plt.show()"
      ],
      "metadata": {
        "id": "o58-TEIhveiU"
      },
      "execution_count": null,
      "outputs": []
    },
    {
      "cell_type": "markdown",
      "source": [
        "## **5. Solution to Business Objective**"
      ],
      "metadata": {
        "id": "JcMwzZxoAimU"
      }
    },
    {
      "cell_type": "markdown",
      "source": [
        "#### What do you suggest the client to achieve Business Objective ?\n",
        "Explain Briefly."
      ],
      "metadata": {
        "id": "8G2x9gOozGDZ"
      }
    },
    {
      "cell_type": "markdown",
      "source": [
        "To help the client achieve their business objectives based on the insights from the Play Store dataset, the following suggestions can be made-\n",
        "1. Identify and Focus on High-Rating Categories-\n",
        "To Improve the quality and reputation of apps.\n",
        "Based on the analysis of categories with the highest average ratings, the client should consider investing in or developing apps within high-performing categories.\n",
        "2. Targeting Free vs. Paid Apps\n",
        "To Maximize revenue by determining the best app type for each segment.\n",
        "The free apps are performing well in terms of installs, ratings, and user engagement. Consider offering in-app purchases or ads to monetize these apps.\n",
        "And develop paid apps if its ensured that the app offers substantial value that justifies the price.\n",
        "3. Improve Sentiment and User Feedback\n",
        "To Enhance user satisfaction and improve app ratings.\n",
        "Analyze sentiment analysis and feedback from reviews to understand user pain points and positive feedback. Pay attention to apps with high subjectivity in their reviews.\n",
        "4. Focus on Apps with High Engagement (Reviews vs. Rating)\n",
        "Increase user engagement and interaction.\n",
        "Focus on apps that have high engagement (i.e., a large number of reviews) but lower ratings. These apps can be improved by addressing user complaints and fixing issues. By improving their ratings, these apps can attract more installs.\n",
        "5.Track and Adapt to Changing User Preferences\n",
        "Stay relevant by adapting to market trends.\n",
        "The client should regularly track \"Last Updated\" data to ensure apps are regularly maintained and updated based on the latest user feedback, trends, and technological advancements."
      ],
      "metadata": {
        "id": "pASKb0qOza21"
      }
    },
    {
      "cell_type": "markdown",
      "source": [
        "# **Conclusion**"
      ],
      "metadata": {
        "id": "gCX9965dhzqZ"
      }
    },
    {
      "cell_type": "markdown",
      "source": [
        "The Play Store data with user review data, helped to gain a deeper understanding of how apps perform and what users think about them. The combined insights help identify trends like which categories of apps are the most popular, what app features users like or dislike, and how ratings are impacted by user feedback. This data allows the client to make informed decisions about improving app quality, targeting the right audience, and optimizing performance. It helped to draw clearer picture of app success factors, leading to better user experiences and business growth."
      ],
      "metadata": {
        "id": "Fjb1IsQkh3yE"
      }
    },
    {
      "cell_type": "markdown",
      "source": [
        "### ***Hurrah! You have successfully completed your EDA Capstone Project !!!***"
      ],
      "metadata": {
        "id": "gIfDvo9L0UH2"
      }
    }
  ]
}